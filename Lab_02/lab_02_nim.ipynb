{
  "cells": [
    {
      "cell_type": "markdown",
      "metadata": {
        "pycharm": {
          "name": "#%% md\n"
        },
        "id": "dSYGzKrai8eQ"
      },
      "source": [
        "Copyright **`(c)`** 2022 Giovanni Squillero `<squillero@polito.it>`  \n",
        "[`https://github.com/squillero/computational-intelligence`](https://github.com/squillero/computational-intelligence)  \n",
        "Free for personal or classroom use; see [`LICENSE.md`](https://github.com/squillero/computational-intelligence/blob/master/LICENSE.md) for details.  \n"
      ]
    },
    {
      "cell_type": "markdown",
      "metadata": {
        "pycharm": {
          "name": "#%%\n"
        },
        "id": "cI6nOsN2i8eV"
      },
      "source": [
        "# Lab 3: Policy Search\n",
        "\n",
        "## Task\n",
        "\n",
        "Write agents able to play [*Nim*](https://en.wikipedia.org/wiki/Nim), with an arbitrary number of rows and an upper bound $k$ on the number of objects that can be removed in a turn (a.k.a., *subtraction game*).\n",
        "\n",
        "The player **taking the last object wins**.\n",
        "\n",
        "* Task3.1: An agent using fixed rules based on *nim-sum* (i.e., an *expert system*)\n",
        "* Task3.2: An agent using evolved rules\n",
        "* Task3.3: An agent using minmax\n",
        "* Task3.4: An agent using reinforcement learning\n",
        "\n",
        "## Instructions\n",
        "\n",
        "* Create the directory `lab3` inside the course repo\n",
        "* Put a `README.md` and your solution (all the files, code and auxiliary data if needed)\n",
        "\n",
        "## Notes\n",
        "\n",
        "* Working in group is not only allowed, but recommended (see: [Ubuntu](https://en.wikipedia.org/wiki/Ubuntu_philosophy) and [Cooperative Learning](https://files.eric.ed.gov/fulltext/EJ1096789.pdf)). Collaborations must be explicitly declared in the `README.md`.\n",
        "* [Yanking](https://www.emacswiki.org/emacs/KillingAndYanking) from the internet is allowed, but sources must be explicitly declared in the `README.md`.\n",
        "\n",
        "## Deadlines ([AoE](https://en.wikipedia.org/wiki/Anywhere_on_Earth))\n",
        "\n",
        "* Sunday, December 4th for Task3.1 and Task3.2\n",
        "* Sunday, December 11th for Task3.3 and Task3.4\n",
        "* Sunday, December 18th for all reviews"
      ]
    },
    {
      "cell_type": "code",
      "execution_count": null,
      "metadata": {
        "id": "Yz6suCxIi8eW"
      },
      "outputs": [],
      "source": [
        "import logging\n",
        "from collections import namedtuple\n",
        "import random\n",
        "from typing import Callable\n",
        "from copy import deepcopy\n",
        "from itertools import accumulate\n",
        "from operator import xor"
      ]
    },
    {
      "cell_type": "markdown",
      "metadata": {
        "id": "hqBWbXj0i8eY"
      },
      "source": [
        "## The *Nim* and *Nimply* classes"
      ]
    },
    {
      "cell_type": "code",
      "execution_count": null,
      "metadata": {
        "id": "ZfnwVtvhi8eY"
      },
      "outputs": [],
      "source": [
        "Nimply = namedtuple(\"Nimply\", \"row, num_objects\")"
      ]
    },
    {
      "cell_type": "code",
      "execution_count": null,
      "metadata": {
        "id": "XAWp-COVi8eY"
      },
      "outputs": [],
      "source": [
        "class Nim:\n",
        "    def __init__(self, num_rows: int, k: int = None) -> None:\n",
        "        self._rows = [i * 2 + 1 for i in range(num_rows)]\n",
        "        self._k = k\n",
        "\n",
        "    def __bool__(self):\n",
        "        return sum(self._rows) > 0\n",
        "\n",
        "    def __str__(self):\n",
        "        return \"<\" + \" \".join(str(_) for _ in self._rows) + \">\"\n",
        "\n",
        "    @property\n",
        "    def rows(self) -> tuple:\n",
        "        return tuple(self._rows)\n",
        "\n",
        "    @property\n",
        "    def k(self) -> int:\n",
        "        return self._k\n",
        "\n",
        "    def nimming(self, ply: Nimply) -> None:\n",
        "        row, num_objects = ply\n",
        "        assert self._rows[row] >= num_objects\n",
        "        assert self._k is None or num_objects <= self._k\n",
        "        self._rows[row] -= num_objects"
      ]
    },
    {
      "cell_type": "markdown",
      "metadata": {
        "id": "7gVAgmaui8eZ"
      },
      "source": [
        "## Sample (and silly) startegies"
      ]
    },
    {
      "cell_type": "code",
      "execution_count": null,
      "metadata": {
        "id": "Aq3-2nsii8eZ"
      },
      "outputs": [],
      "source": [
        "def pure_random(state: Nim) -> Nimply:\n",
        "    row = random.choice([r for r, c in enumerate(state.rows) if c > 0])\n",
        "    num_objects = random.randint(1, state.rows[row])\n",
        "    return Nimply(row, num_objects)"
      ]
    },
    {
      "cell_type": "code",
      "execution_count": null,
      "metadata": {
        "id": "KO57rP5Yi8ea"
      },
      "outputs": [],
      "source": [
        "def gabriele(state: Nim) -> Nimply:\n",
        "    \"\"\"Pick always the maximum possible number of the lowest row\"\"\"\n",
        "    possible_moves = [(r, o) for r, c in enumerate(state.rows) for o in range(1, c + 1)]\n",
        "    return Nimply(*max(possible_moves, key=lambda m: (-m[0], m[1])))"
      ]
    },
    {
      "cell_type": "code",
      "execution_count": null,
      "metadata": {
        "id": "Ms0SB5CBi8ea"
      },
      "outputs": [],
      "source": [
        "def nim_sum(state: Nim) -> int:\n",
        "    *_, result = accumulate(state.rows, xor)\n",
        "    return result\n",
        "\n",
        "\n",
        "def cook_status(state: Nim) -> dict:\n",
        "    cooked = dict()\n",
        "    cooked[\"possible_moves\"] = [\n",
        "        (r, o) for r, c in enumerate(state.rows) for o in range(1, c + 1) if state.k is None or o <= state.k\n",
        "    ]\n",
        "    cooked[\"active_rows_number\"] = sum(o > 0 for o in state.rows)\n",
        "    cooked[\"shortest_row\"] = min((x for x in enumerate(state.rows) if x[1] > 0), key=lambda y: y[1])[0]\n",
        "    cooked[\"longest_row\"] = max((x for x in enumerate(state.rows)), key=lambda y: y[1])[0]\n",
        "    cooked[\"nim_sum\"] = nim_sum(state)\n",
        "\n",
        "    brute_force = list()\n",
        "    for m in cooked[\"possible_moves\"]:\n",
        "        tmp = deepcopy(state)\n",
        "        tmp.nimming(m)\n",
        "        brute_force.append((m, nim_sum(tmp)))\n",
        "    cooked[\"brute_force\"] = brute_force\n",
        "\n",
        "    return cooked"
      ]
    },
    {
      "cell_type": "code",
      "execution_count": null,
      "metadata": {
        "id": "4JOcw6wsi8eb"
      },
      "outputs": [],
      "source": [
        "def optimal_startegy(state: Nim) -> Nimply:\n",
        "    data = cook_status(state)\n",
        "    return next((bf for bf in data[\"brute_force\"] if bf[1] == 0), random.choice(data[\"brute_force\"]))[0]"
      ]
    },
    {
      "cell_type": "code",
      "execution_count": null,
      "metadata": {
        "id": "8sHDO-Ayi8eb"
      },
      "outputs": [],
      "source": [
        "def make_strategy(genome: dict) -> Callable:\n",
        "    def evolvable(state: Nim) -> Nimply:\n",
        "        data = cook_status(state)\n",
        "\n",
        "        if random.random() < genome[\"p\"]:\n",
        "            ply = Nimply(data[\"shortest_row\"], random.randint(1, state.rows[data[\"shortest_row\"]]))\n",
        "        else:\n",
        "            ply = Nimply(data[\"longest_row\"], random.randint(1, state.rows[data[\"longest_row\"]]))\n",
        "\n",
        "        return ply\n",
        "\n",
        "    return evolvable"
      ]
    },
    {
      "cell_type": "code",
      "execution_count": null,
      "metadata": {
        "id": "piOH42tGi8eb"
      },
      "outputs": [],
      "source": [
        "NUM_MATCHES = 10\n",
        "NIM_SIZE = 10\n",
        "\n",
        "\n",
        "def evaluate(strategy: Callable) -> float:\n",
        "    opponent = (strategy, optimal_startegy)\n",
        "    won = 0\n",
        "\n",
        "    for m in range(NUM_MATCHES):\n",
        "        nim = Nim(NIM_SIZE)\n",
        "        player = 0\n",
        "        while nim:\n",
        "            ply = opponent[player](nim)\n",
        "            nim.nimming(ply)\n",
        "            player = 1 - player\n",
        "        if player == 1:\n",
        "            won += 1\n",
        "    return won / NUM_MATCHES"
      ]
    },
    {
      "cell_type": "code",
      "execution_count": null,
      "metadata": {
        "id": "qbPztLNhi8ec",
        "outputId": "e835b2a1-904a-43e6-9acf-fa858522aabc"
      },
      "outputs": [
        {
          "data": {
            "text/plain": [
              "0.0"
            ]
          },
          "execution_count": 10,
          "metadata": {},
          "output_type": "execute_result"
        }
      ],
      "source": [
        "evaluate(make_strategy({\"p\": 0.9999}))"
      ]
    },
    {
      "cell_type": "markdown",
      "metadata": {
        "id": "konQ03uti8ec"
      },
      "source": [
        "## Oversimplified match"
      ]
    },
    {
      "cell_type": "code",
      "execution_count": null,
      "metadata": {
        "id": "1nw9TJJ3i8ed",
        "outputId": "6b8a37d8-d0c3-4128-b570-c860181f05d3"
      },
      "outputs": [
        {
          "name": "stderr",
          "output_type": "stream",
          "text": [
            "DEBUG:root:status: Initial board  -> <1 3 5 7 9 11 13 15 17 19 21>\n",
            "DEBUG:root:status: After player 0 -> <1 3 5 7 9 11 13 15 17 19 2>\n",
            "DEBUG:root:status: After player 1 -> <1 3 5 7 2 11 13 15 17 19 2>\n",
            "DEBUG:root:status: After player 0 -> <1 3 5 7 2 11 13 15 17 18 2>\n",
            "DEBUG:root:status: After player 1 -> <1 3 5 7 2 1 13 15 17 18 2>\n",
            "DEBUG:root:status: After player 0 -> <1 3 5 7 2 1 13 15 17 2 2>\n",
            "DEBUG:root:status: After player 1 -> <1 3 5 7 2 1 13 15 1 2 2>\n",
            "DEBUG:root:status: After player 0 -> <0 3 5 7 2 1 13 15 1 2 2>\n",
            "DEBUG:root:status: After player 1 -> <0 2 5 7 2 1 13 15 1 2 2>\n",
            "DEBUG:root:status: After player 0 -> <0 2 5 7 2 1 13 0 1 2 2>\n",
            "DEBUG:root:status: After player 1 -> <0 2 5 7 2 1 2 0 1 2 2>\n",
            "DEBUG:root:status: After player 0 -> <0 2 5 6 2 1 2 0 1 2 2>\n",
            "DEBUG:root:status: After player 1 -> <0 2 4 6 2 1 2 0 1 2 2>\n",
            "DEBUG:root:status: After player 0 -> <0 2 4 5 2 1 2 0 1 2 2>\n",
            "DEBUG:root:status: After player 1 -> <0 1 4 5 2 1 2 0 1 2 2>\n",
            "DEBUG:root:status: After player 0 -> <0 0 4 5 2 1 2 0 1 2 2>\n",
            "DEBUG:root:status: After player 1 -> <0 0 4 4 2 1 2 0 1 2 2>\n",
            "DEBUG:root:status: After player 0 -> <0 0 4 4 2 0 2 0 1 2 2>\n",
            "DEBUG:root:status: After player 1 -> <0 0 4 4 2 0 2 0 0 2 2>\n",
            "DEBUG:root:status: After player 0 -> <0 0 4 4 1 0 2 0 0 2 2>\n",
            "DEBUG:root:status: After player 1 -> <0 0 4 4 1 0 1 0 0 2 2>\n",
            "DEBUG:root:status: After player 0 -> <0 0 0 4 1 0 1 0 0 2 2>\n",
            "DEBUG:root:status: After player 1 -> <0 0 0 0 1 0 1 0 0 2 2>\n",
            "DEBUG:root:status: After player 0 -> <0 0 0 0 1 0 1 0 0 0 2>\n",
            "DEBUG:root:status: After player 1 -> <0 0 0 0 1 0 1 0 0 0 0>\n",
            "DEBUG:root:status: After player 0 -> <0 0 0 0 0 0 1 0 0 0 0>\n",
            "DEBUG:root:status: After player 1 -> <0 0 0 0 0 0 0 0 0 0 0>\n",
            "INFO:root:status: Player 1 won!\n"
          ]
        }
      ],
      "source": [
        "logging.getLogger().setLevel(logging.DEBUG)\n",
        "\n",
        "strategy = (make_strategy({\"p\": 0.1}), optimal_startegy)\n",
        "\n",
        "nim = Nim(11)\n",
        "logging.debug(f\"status: Initial board  -> {nim}\")\n",
        "player = 0\n",
        "while nim:\n",
        "    ply = strategy[player](nim)\n",
        "    nim.nimming(ply)\n",
        "    logging.debug(f\"status: After player {player} -> {nim}\")\n",
        "    player = 1 - player\n",
        "winner = 1 - player\n",
        "logging.info(f\"status: Player {winner} won!\")"
      ]
    },
    {
      "cell_type": "code",
      "source": [
        "import random\n",
        "\n",
        "# Constants\n",
        "POPULATION_SIZE = 100\n",
        "MUTATION_RATE = 0.2\n",
        "MAX_GENERATIONS = 100\n",
        "num_rows=3\n",
        "number_of_games = 50"
      ],
      "metadata": {
        "id": "jSeFow6Ii_6Z"
      },
      "execution_count": 4,
      "outputs": []
    },
    {
      "cell_type": "code",
      "source": [
        "def nimGame(num_rows):\n",
        "    nim = [i * 2 + 1 for i in range(num_rows)]\n",
        "    return nim\n",
        "\n",
        "def generate_individual(nim):\n",
        "    \"\"\"Generate a random integer within the specified bounds.\"\"\"\n",
        "    population=[[random.randint(1, nim[i]) for i in range(num_rows)] for _ in range(POPULATION_SIZE)]\n",
        "    return population\n",
        "\n",
        "def calculate_fitness(population, nim):\n",
        "    \"\"\"Calculate the fitness of an individual based on the absolute difference from the target.\"\"\"\n",
        "    fitness_scores = []\n",
        "    for agent in population:\n",
        "        score = 0\n",
        "        for _ in range(number_of_games):\n",
        "            #nim.reset()\n",
        "            moves = 0\n",
        "            while nim:\n",
        "                ply = agent.make_move(nim)\n",
        "                nim.nimming(ply)\n",
        "                moves += 1\n",
        "                if not nim:\n",
        "                    score += 2\n",
        "            score -= moves\n",
        "        fitness_scores.append(score)\n",
        "    return fitness_scores\n",
        "\n",
        "def crossover(parent1, parent2):\n",
        "    \"\"\"Perform crossover between two parents to create a new child.\"\"\"\n",
        "    a = len(parent1) // 2;\n",
        "    child = []\n",
        "    if random.random() < 0.5:\n",
        "        child.extend(parent1[0:a])\n",
        "        child.extend(parent2[a:])\n",
        "    else:\n",
        "        child.extend(parent2[0:a])\n",
        "        child.extend(parent1[a:])\n",
        "    return child\n",
        "\n",
        "\n",
        "def mutate(genome):\n",
        "    \"\"\"Mutate an individual by adding a random value within a range.\"\"\"\n",
        "    index=random.randrange(0,len(genome))\n",
        "    a = random.choice([-1, 1])\n",
        "    b = random.random()\n",
        "    c = random.random()\n",
        "    if (genome[index] == 0 and b <= 0.5):\n",
        "        genome[index] += 1\n",
        "    elif (genome[index] == 2 * index + 1 and c <= 0.5):\n",
        "        genome[index] -= 1\n",
        "    else:\n",
        "        genome[index] += a;\n",
        "    return genome;\n",
        "\n",
        "def genetic_algorithm():\n",
        "\n",
        "    nim=nimGame(num_rows)\n",
        "\n",
        "    population = generate_individual(nim)\n",
        "\n",
        "    generations = 0\n",
        "    while generations < MAX_GENERATIONS:\n",
        "        # Calculate fitness for each individual\n",
        "        fitness_scores = calculate_fitness(population, nim)\n",
        "\n",
        "        # Select parents based on fitness\n",
        "        parents = [population[i] for i in range(POPULATION_SIZE) if random.uniform(0, 1) < fitness_scores[i]]\n",
        "\n",
        "        # Create the next generation\n",
        "        next_generation = []\n",
        "\n",
        "        # Transfer the best individual to the next generation\n",
        "        best_index = fitness_scores.index(max(fitness_scores))\n",
        "        next_generation.append(population[best_index])\n",
        "\n",
        "        # Perform crossover on 70% of the population\n",
        "        crossover_count = int(0.7 * POPULATION_SIZE)\n",
        "        for _ in range(crossover_count):\n",
        "            parent1, parent2 = random.choices(parents, k=2)\n",
        "            child = crossover(parent1, parent2)\n",
        "            next_generation.append(child)\n",
        "\n",
        "        # Perform mutation on 20% of the population\n",
        "        mutation_count = int(0.2 * POPULATION_SIZE)\n",
        "        for _ in range(mutation_count):\n",
        "            parent = random.choice(parents)\n",
        "            child = mutate(parent, MUTATION_RATE)\n",
        "            next_generation.append(child)\n",
        "\n",
        "        # Fill the remaining population with random individuals\n",
        "        while len(next_generation) < POPULATION_SIZE:\n",
        "            next_generation.append(generate_individual())\n",
        "\n",
        "        # Replace the old population with the new generation\n",
        "        population = next_generation\n",
        "\n",
        "        generations += 1\n",
        "\n",
        "        # Print the best individual in each generation\n",
        "        best_individual = population[fitness_scores.index(max(fitness_scores))]\n",
        "        print(\"Generation {}: Best Individual: {}, Fitness: {}\".format(generations, best_individual, max(fitness_scores)))\n",
        "\n",
        "    else:\n",
        "        print(\"Maximum generations reached. Target not achieved.\")\n",
        "\n",
        "if __name__ == \"__main__\":\n",
        "    genetic_algorithm()"
      ],
      "metadata": {
        "id": "GoBDZzCQjFaj"
      },
      "execution_count": null,
      "outputs": []
    },
    {
      "cell_type": "code",
      "source": [
        "def back_track(self, state):\n",
        "    moves = [\n",
        "        (row, min(state.rows[row], max(1, int(self.genome[row] * state.rows[row]))))\n",
        "        for row in range(len(state.rows)) if state.rows[row] > 0\n",
        "    ]\n",
        "\n",
        "    chosen_move = max(moves, key=lambda x: self.genome[x[0]])\n",
        "    return Nimply(*chosen_move)"
      ],
      "metadata": {
        "id": "Uf-VyYPRjYf5"
      },
      "execution_count": 7,
      "outputs": []
    },
    {
      "cell_type": "code",
      "source": [
        "def make_move(state):\n",
        "        xor_sum = 0\n",
        "        for count in state.rows:\n",
        "            xor_sum ^= count\n",
        "\n",
        "        if xor_sum == 0:\n",
        "            return back_track(state)\n",
        "        else:\n",
        "            for row, count in enumerate(state.rows):\n",
        "                if count > 0:\n",
        "                    target_count = xor_sum ^ count\n",
        "                    if target_count < count:\n",
        "                        return Nimply(row, count - target_count)\n",
        "            return back_track(state)"
      ],
      "metadata": {
        "id": "dFD3-Qy0jOTI"
      },
      "execution_count": 6,
      "outputs": []
    }
  ],
  "metadata": {
    "kernelspec": {
      "display_name": "Python 3.10.7 ('ci22-dPIXJ0_o-py3.10')",
      "language": "python",
      "name": "python3"
    },
    "language_info": {
      "codemirror_mode": {
        "name": "ipython",
        "version": 3
      },
      "file_extension": ".py",
      "mimetype": "text/x-python",
      "name": "python",
      "nbconvert_exporter": "python",
      "pygments_lexer": "ipython3",
      "version": "3.10.7"
    },
    "vscode": {
      "interpreter": {
        "hash": "10197e8e2f2aa67e2c349105091c77f4cd384fce4877865f002d9ec653f96bc0"
      }
    },
    "colab": {
      "provenance": []
    }
  },
  "nbformat": 4,
  "nbformat_minor": 0
}