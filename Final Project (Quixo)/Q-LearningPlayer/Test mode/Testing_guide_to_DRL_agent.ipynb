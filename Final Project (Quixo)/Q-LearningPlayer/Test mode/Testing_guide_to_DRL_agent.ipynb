{
  "nbformat": 4,
  "nbformat_minor": 0,
  "metadata": {
    "colab": {
      "provenance": []
    },
    "kernelspec": {
      "name": "python3",
      "display_name": "Python 3"
    },
    "language_info": {
      "name": "python"
    }
  },
  "cells": [
    {
      "cell_type": "markdown",
      "source": [
        "**Following notebook is written as a guide to test the agent in your own notebook**\n",
        "1.   copy and paste all the following three notes in your code.\n",
        "\n",
        "2.   We have already trined a model which you should load on the agent\n",
        "3.   First copy the agent from the following note"
      ],
      "metadata": {
        "id": "9K-fb88I-_Ga"
      }
    },
    {
      "cell_type": "code",
      "source": [
        "import random\n",
        "import torch\n",
        "import torch.nn as nn\n",
        "import torch.optim as optim\n",
        "import torch.nn.functional as F\n",
        "from collections import deque\n",
        "\n",
        "# Defines the neural network architecture\n",
        "class ComplexDQN(nn.Module):\n",
        "    def __init__(self, input_size, output_size):\n",
        "        super(ComplexDQN, self).__init__()\n",
        "        self.fc1 = nn.Linear(input_size, 256)\n",
        "        self.fc2 = nn.Linear(256, 512)\n",
        "        self.fc3 = nn.Linear(512, 512)\n",
        "        self.fc4 = nn.Linear(512, 256)\n",
        "        self.fc5 = nn.Linear(256, output_size)\n",
        "\n",
        "    def forward(self, x):\n",
        "        x = F.relu(self.fc1(x))\n",
        "        x = F.relu(self.fc2(x))\n",
        "        x = F.relu(self.fc3(x))\n",
        "        x = F.relu(self.fc4(x))\n",
        "        return self.fc5(x)\n",
        "\n",
        "\n",
        "# Defines constants\n",
        "input_size = 5 * 5  # Size of the flattened game board\n",
        "output_size = 44     # Number of possible moves (from_pos, move)\n",
        "hidden_size = 64    # Size of the hidden layer in the neural network\n",
        "learning_rate = 0.001\n",
        "epsilon = 0.01       # Epsilon for epsilon-greedy policy\n",
        "batch_size = 32     # Batch size for training the neural network\n",
        "memory_size = 10000 # Size of the experience replay buffer\n",
        "\n",
        "# Let's define Deep RL player\n",
        "class DeepRLPlayer(Player):\n",
        "    def __init__(self) -> None:\n",
        "        super().__init__()\n",
        "        self.device = torch.device(\"cuda\" if torch.cuda.is_available() else \"cpu\")\n",
        "        self.model = ComplexDQN(input_size, output_size).to(self.device)\n",
        "        self.target_model = ComplexDQN(input_size, output_size).to(self.device)\n",
        "        self.target_model.load_state_dict(self.model.state_dict())\n",
        "        self.target_model.eval()\n",
        "        self.optimizer = optim.Adam(self.model.parameters(), lr=learning_rate)\n",
        "        self.memory = deque(maxlen=memory_size)\n",
        "        self.steps_done = 0\n",
        "        self.gamma = 0.99  # Discount factor for future rewards\n",
        "\n",
        "    def make_move(self, game: 'Game') -> tuple[tuple[int, int], Move]:\n",
        "        state = torch.tensor(game.get_board().flatten(), dtype=torch.float32).unsqueeze(0).to(self.device)\n",
        "\n",
        "        # Choose action using epsilon-greedy policy\n",
        "        if random.random() < epsilon:\n",
        "            action = random.choice([Move.TOP, Move.BOTTOM, Move.LEFT, Move.RIGHT])\n",
        "            from_pos = (random.randint(0, 4), random.randint(0, 4))\n",
        "        else:\n",
        "            with torch.no_grad():\n",
        "                q_values = self.model(state)\n",
        "                from_pos = classes[torch.argmax(q_values).item()][0]\n",
        "                action = classes[torch.argmax(q_values).item()][1]\n",
        "        return from_pos, action\n",
        "\n",
        "    def train(self):\n",
        "        if len(self.memory) < batch_size:\n",
        "            return\n",
        "        minibatch = random.sample(self.memory, batch_size)\n",
        "        states, actions, rewards, next_states, dones = zip(*minibatch)\n",
        "        states = torch.tensor(states, dtype=torch.float32).to(self.device)\n",
        "        actions = torch.tensor(actions, dtype=torch.int64).to(self.device)\n",
        "        rewards = torch.tensor(rewards, dtype=torch.float32).to(self.device)\n",
        "        next_states = torch.tensor(next_states, dtype=torch.float32).to(self.device)\n",
        "        dones = torch.tensor(dones, dtype=torch.float32).to(self.device)\n",
        "\n",
        "        current_q_values = self.model(states).gather(1, actions.unsqueeze(1))\n",
        "        next_q_values = self.target_model(next_states).max(1)[0].detach()\n",
        "        target_q_values = rewards + (1 - dones) * self.gamma * next_q_values\n",
        "\n",
        "        loss = F.smooth_l1_loss(current_q_values, target_q_values.unsqueeze(1))\n",
        "        self.optimizer.zero_grad()\n",
        "        loss.backward()\n",
        "        self.optimizer.step()\n",
        "\n",
        "        # Update target network\n",
        "        if self.steps_done % target_update == 0:\n",
        "            self.target_model.load_state_dict(self.model.state_dict())\n",
        "\n",
        "        self.steps_done += 1\n",
        "\n",
        "    def store_experience(self, state, action, reward, next_state, done):\n",
        "        self.memory.append((state, action, reward, next_state, done))\n",
        "\n",
        "# Define constants\n",
        "target_update = 1000  # Frequency of updating the target network"
      ],
      "metadata": {
        "id": "kxBfH6nNAX2b"
      },
      "execution_count": null,
      "outputs": []
    },
    {
      "cell_type": "markdown",
      "source": [
        "Second, create a directory and move the train model to it."
      ],
      "metadata": {
        "id": "tJc9hL0SAki6"
      }
    },
    {
      "cell_type": "code",
      "execution_count": null,
      "metadata": {
        "id": "rSO2n41t-95l"
      },
      "outputs": [],
      "source": [
        "import os\n",
        "# Define a directory to save the trained models\n",
        "MODEL_DIR = 'trained_models'\n",
        "os.makedirs(MODEL_DIR, exist_ok=True)"
      ]
    },
    {
      "cell_type": "markdown",
      "source": [
        "Third, run the following note, it creates the Deep RL agent in player 2 and loads the model on it. player one is considered to be Random Player, which you may change it."
      ],
      "metadata": {
        "id": "KB3gEPhCA3Tc"
      }
    },
    {
      "cell_type": "code",
      "source": [
        "from tqdm import tqdm\n",
        "model_filename = \"deep_rl_player_10.pth, TrainWinRate_82.53,roundNum_ 10000, lr_, 0.001, epsilon_0.01, structure_ 256_512\"\n",
        "\n",
        "# Function to load model parameters\n",
        "def load_model(model, filename):\n",
        "    filepath = os.path.join(MODEL_DIR, filename)\n",
        "    model.load_state_dict(torch.load(filepath))\n",
        "    print(f\"Model loaded from '{filepath}'\")\n",
        "\n",
        "g = Game()\n",
        "player1 = RandomPlayer()\n",
        "player2 = DeepRLPlayer()\n",
        "\n",
        "# Load the trained model\n",
        "load_model(player2.model, model_filename)\n",
        "print(\"Model loaded.\")"
      ],
      "metadata": {
        "id": "wotoBoSLA2X0"
      },
      "execution_count": null,
      "outputs": []
    },
    {
      "cell_type": "markdown",
      "source": [
        "Enjoy testing!"
      ],
      "metadata": {
        "id": "cc3PkUKVClei"
      }
    }
  ]
}